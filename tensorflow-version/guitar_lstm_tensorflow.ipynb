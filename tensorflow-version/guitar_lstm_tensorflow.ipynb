{
 "cells": [
  {
   "cell_type": "code",
   "execution_count": 1,
   "metadata": {},
   "outputs": [],
   "source": [
    "import numpy as np\n",
    "import scipy as sp\n",
    "\n",
    "import tensorflow as tf\n",
    "from tensorflow import keras\n",
    "import os"
   ]
  },
  {
   "cell_type": "markdown",
   "metadata": {},
   "source": [
    "## Choose computation device (CPU)"
   ]
  },
  {
   "cell_type": "code",
   "execution_count": 2,
   "metadata": {},
   "outputs": [
    {
     "name": "stdout",
     "output_type": "stream",
     "text": [
      "These are the physical devices available:\n",
      "[PhysicalDevice(name='/physical_device:CPU:0', device_type='CPU'), PhysicalDevice(name='/physical_device:GPU:0', device_type='GPU')]\n",
      "These are the visible devices:\n",
      "[PhysicalDevice(name='/physical_device:CPU:0', device_type='CPU')]\n"
     ]
    }
   ],
   "source": [
    "physical_devices = tf.config.list_physical_devices()\n",
    "print(f\"These are the physical devices available:\\n{physical_devices}\")\n",
    "\n",
    "try:\n",
    "    # Disable all GPUS\n",
    "    tf.config.set_visible_devices([], 'GPU')\n",
    "    visible_devices = tf.config.get_visible_devices()\n",
    "    print(f\"These are the visible devices:\\n{visible_devices}\")\n",
    "except:\n",
    "    pass"
   ]
  },
  {
   "cell_type": "markdown",
   "metadata": {},
   "source": [
    "## User inputs"
   ]
  },
  {
   "cell_type": "code",
   "execution_count": 3,
   "metadata": {},
   "outputs": [
    {
     "name": "stdout",
     "output_type": "stream",
     "text": [
      "A model with the same name already exists. Please choose a new name.\n"
     ]
    }
   ],
   "source": [
    "# EDIT THIS SECTION FOR USER INPUTS\n",
    "#\n",
    "name = 'model_0'\n",
    "in_file = '../data/ts9_test1_in_FP32.wav'\n",
    "out_file = '../data/ts9_test1_out_FP32.wav'\n",
    "epochs = 1\n",
    "\n",
    "train_mode = 0     # 0 = speed training, \n",
    "                   # 1 = accuracy training \n",
    "                   # 2 = extended training\n",
    "\n",
    "input_size = 150 \n",
    "batch_size = 4096 \n",
    "test_size = 0.2\n",
    "\n",
    "if not os.path.exists('models/'+name):\n",
    "    os.makedirs('models/'+name)\n",
    "else:\n",
    "    print(\"A model with the same name already exists. Please choose a new name.\")\n",
    "    exit"
   ]
  },
  {
   "cell_type": "markdown",
   "metadata": {},
   "source": [
    "## Define some helper functions"
   ]
  },
  {
   "cell_type": "code",
   "execution_count": 4,
   "metadata": {},
   "outputs": [],
   "source": [
    "def save_wav(name, data):\n",
    "    sp.io.wavfile.write(name, 44100, data.flatten().astype(np.float32))\n",
    "\n",
    "def normalize(data):\n",
    "    data_max = max(data)\n",
    "    data_min = min(data)\n",
    "    data_norm = max(data_max,abs(data_min))\n",
    "    return data / data_norm"
   ]
  },
  {
   "cell_type": "markdown",
   "metadata": {},
   "source": [
    "## Pre-processing the data"
   ]
  },
  {
   "cell_type": "code",
   "execution_count": 5,
   "metadata": {},
   "outputs": [
    {
     "name": "stdout",
     "output_type": "stream",
     "text": [
      "X_training shape (pre-processing): (6587907, 1)\n",
      "y_training shape (pre-processing): (6587907, 1)\n",
      "X_testing shape (pre-processing): (1646977, 1)\n",
      "y_testing shape (pre-processing): (1646977, 1)\n",
      "X_ordered_training shape: (6587758, 150, 1)\n",
      "X_ordered_testing shape: (1646828, 150, 1)\n",
      "y_ordered_training shape: (6587758, 1)\n",
      "y_ordered_testing shape: (1646828, 1)\n",
      "X_random_training shape (post-processing): (6587758, 150, 1)\n",
      "y_random_training shape (post-processing): (6587758, 1)\n",
      "The X_random_training data is an array, where each element is an array of input_size samples in time order. Therefore the lenght is smaller than the original X_training array (the first 150 samples are grouped).\n",
      "The y_random_training data is an array, where each element is a single sample. This single sample is the target output for the corresponding X_random_training element, which consists of input samples.\n"
     ]
    }
   ],
   "source": [
    "# Load and Preprocess Data ###########################################\n",
    "in_rate, in_data = sp.io.wavfile.read(in_file)\n",
    "out_rate, out_data = sp.io.wavfile.read(out_file)\n",
    "\n",
    "X_all = in_data.astype(np.float32).flatten()  \n",
    "X_all = normalize(X_all).reshape(len(X_all),1)   \n",
    "y_all = out_data.astype(np.float32).flatten() \n",
    "y_all = normalize(y_all).reshape(len(y_all),1)\n",
    "\n",
    "# Get the last 20% of the wav data for testing and thee rest for training\n",
    "X_training, X_testing = np.split(X_all, [int(len(X_all)*(1-test_size))])\n",
    "y_training, y_testing = np.split(y_all, [int(len(y_all)*(1-test_size))])\n",
    "print(f\"X_training shape (pre-processing): {X_training.shape}\")\n",
    "print(f\"y_training shape (pre-processing): {y_training.shape}\")\n",
    "print(f\"X_testing shape (pre-processing): {X_testing.shape}\")\n",
    "print(f\"y_testing shape (pre-processing): {y_testing.shape}\")\n",
    "\n",
    "# Create a new array where each element is an array of input_size samples in time order\n",
    "# Each element of the new array is shifted by one sample from the previous element\n",
    "indices = np.arange(input_size) + np.arange(len(X_training)-input_size+1)[:,np.newaxis]\n",
    "X_ordered_training = tf.gather(X_training,indices) \n",
    "print(f\"X_ordered_training shape: {X_ordered_training.shape}\")\n",
    "indices = np.arange(input_size) + np.arange(len(X_testing)-input_size+1)[:,np.newaxis]\n",
    "X_ordered_testing = tf.gather(X_testing,indices) \n",
    "print(f\"X_ordered_testing shape: {X_ordered_testing.shape}\")\n",
    "\n",
    "# The input size defines the number of samples used for each prediction\n",
    "# Therefore the first output value that we get is at index input_size-1\n",
    "y_ordered_training = y_training[input_size-1:]\n",
    "print(f\"y_ordered_training shape: {y_ordered_training.shape}\")\n",
    "y_ordered_testing = y_testing[input_size-1:]\n",
    "print(f\"y_ordered_testing shape: {y_ordered_testing.shape}\")\n",
    "\n",
    "\n",
    "shuffled_indices = np.random.permutation(len(X_ordered_training)) \n",
    "X_random_training = tf.gather(X_ordered_training, shuffled_indices)\n",
    "y_random_training = tf.gather(y_ordered_training, shuffled_indices)\n",
    "print(f\"X_random_training shape (post-processing): {X_random_training.shape}\")\n",
    "print(f\"y_random_training shape (post-processing): {y_random_training.shape}\")\n",
    "\n",
    "print(f\"The X_random_training data is an array, where each element is an array of input_size samples in time order. Therefore the lenght is smaller than the original X_training array (the first {input_size} samples are grouped).\")\n",
    "print(f\"The y_random_training data is an array, where each element is a single sample. This single sample is the target output for the corresponding X_random_training element, which consists of input samples.\")"
   ]
  },
  {
   "cell_type": "markdown",
   "metadata": {},
   "source": [
    "## Define the model"
   ]
  },
  {
   "cell_type": "code",
   "execution_count": 6,
   "metadata": {},
   "outputs": [
    {
     "name": "stderr",
     "output_type": "stream",
     "text": [
      "WARNING:absl:At this time, the v2.11+ optimizer `tf.keras.optimizers.Adam` runs slowly on M1/M2 Macs, please use the legacy Keras optimizer instead, located at `tf.keras.optimizers.legacy.Adam`.\n"
     ]
    },
    {
     "name": "stdout",
     "output_type": "stream",
     "text": [
      "Model: \"model\"\n",
      "_________________________________________________________________\n",
      " Layer (type)                Output Shape              Param #   \n",
      "=================================================================\n",
      " input_1 (InputLayer)        [(1, 150, 1)]             0         \n",
      "                                                                 \n",
      " zero_padding1d (ZeroPaddin  (1, 174, 1)               0         \n",
      " g1D)                                                            \n",
      "                                                                 \n",
      " conv1d (Conv1D)             (1, 14, 16)               208       \n",
      "                                                                 \n",
      " zero_padding1d_1 (ZeroPadd  (1, 38, 16)               0         \n",
      " ing1D)                                                          \n",
      "                                                                 \n",
      " conv1d_1 (Conv1D)           (1, 3, 16)                3088      \n",
      "                                                                 \n",
      " lstm (LSTM)                 (1, 36)                   7632      \n",
      "                                                                 \n",
      " dense (Dense)               (1, 1)                    37        \n",
      "                                                                 \n",
      "=================================================================\n",
      "Total params: 10965 (42.83 KB)\n",
      "Trainable params: 10965 (42.83 KB)\n",
      "Non-trainable params: 0 (0.00 Byte)\n",
      "_________________________________________________________________\n"
     ]
    }
   ],
   "source": [
    "'''This is a similar Tensorflow/Keras implementation of the LSTM model from the paper:\n",
    "    \"Real-Time Guitar Amplifier Emulation with Deep Learning\"\n",
    "    https://www.mdpi.com/2076-3417/10/3/766/htm\n",
    "\n",
    "    Uses a stack of two 1-D Convolutional layers, followed by LSTM, followed by \n",
    "    a Dense (fully connected) layer. Three preset training modes are available, \n",
    "    with further customization by editing the code. A Functional keras model \n",
    "    is implemented here.\n",
    "\n",
    "    Note: RAM may be a limiting factor for the parameter \"input_size\". The wav data\n",
    "      is preprocessed and stored in RAM, which improves training speed but quickly runs out\n",
    "      if using a large number for \"input_size\".  Reduce this if you are experiencing\n",
    "      RAM issues.\n",
    "'''\n",
    "\n",
    "if train_mode == 0:         # Speed Training\n",
    "    learning_rate = 0.01 \n",
    "    conv1d_strides = 12   \n",
    "    conv1d_1_strides = 12\n",
    "    conv1d_filters = 16\n",
    "    hidden_units = 36\n",
    "elif train_mode == 1:       # Accuracy Training (~10x longer than Speed Training)\n",
    "    learning_rate = 0.01 \n",
    "    conv1d_strides = 4\n",
    "    conv1d_filters = 36\n",
    "    hidden_units= 64\n",
    "else:                       # Extended Training (~60x longer than Accuracy Training)\n",
    "    learning_rate = 0.0005 \n",
    "    conv1d_strides = 3\n",
    "    conv1d_filters = 36\n",
    "    hidden_units= 96\n",
    "\n",
    "# Create Functional Model ###########################################\n",
    "keras.backend.clear_session()\n",
    "\n",
    "# Define the input shape\n",
    "inputs = keras.Input(shape=(input_size,1), batch_size=1)\n",
    "\n",
    "# The stacked layers\n",
    "x = keras.layers.ZeroPadding1D(padding=12, batch_size=1)(inputs)\n",
    "x = keras.layers.Conv1D(filters=conv1d_filters, kernel_size=12, strides=conv1d_strides, activation=None, batch_size=1)(x)\n",
    "x = keras.layers.ZeroPadding1D(padding=12, batch_size=1)(x)\n",
    "x = keras.layers.Conv1D(filters=conv1d_filters, kernel_size=12, strides=conv1d_strides, activation=None, batch_size=1)(x)\n",
    "x = keras.layers.LSTM(units=hidden_units, activation=keras.activations.tanh, return_sequences=False, stateful=False, batch_size=1, use_bias=True)(x)\n",
    "\n",
    "# The output layer\n",
    "outputs = keras.layers.Dense(units=1, activation=None, batch_size=1)(x)\n",
    "\n",
    "# Create the model and compile\n",
    "model = keras.Model(inputs=inputs, outputs=outputs)\n",
    "model.compile(optimizer=keras.optimizers.Adam(learning_rate=learning_rate), loss='mse')\n",
    "model.summary()"
   ]
  },
  {
   "cell_type": "markdown",
   "metadata": {},
   "source": [
    "## Train the model"
   ]
  },
  {
   "cell_type": "code",
   "execution_count": 7,
   "metadata": {},
   "outputs": [
    {
     "name": "stdout",
     "output_type": "stream",
     "text": [
      "1609/1609 [==============================] - 32s 19ms/step - loss: 7.4732e-04 - val_loss: 2.6125e-04\n",
      "INFO:tensorflow:Assets written to: models/model_0/model_0/assets\n"
     ]
    },
    {
     "name": "stderr",
     "output_type": "stream",
     "text": [
      "INFO:tensorflow:Assets written to: models/model_0/model_0/assets\n"
     ]
    }
   ],
   "source": [
    "history = model.fit(x=X_random_training, y=y_random_training, epochs=epochs, batch_size=batch_size, validation_data=(X_ordered_testing, y_ordered_testing)) \n",
    "model.save('models/'+name+'/'+name)"
   ]
  },
  {
   "cell_type": "markdown",
   "metadata": {},
   "source": [
    "## Run predictions\n",
    "### 1. On the test audio data"
   ]
  },
  {
   "cell_type": "code",
   "execution_count": 8,
   "metadata": {},
   "outputs": [
    {
     "name": "stdout",
     "output_type": "stream",
     "text": [
      "Running prediction..\n",
      "51464/51464 [==============================] - 24s 452us/step\n",
      "X_testing shape:  (1646977, 1)\n",
      "X_ordered_testing shape:  (1646828, 150, 1)\n",
      "y_testing shape:  (1646977, 1)\n",
      "prediction shape:  (1646828, 1)\n",
      "Note that the prediction shape is smaller than the y_testing shape. This is because the first predicted sample needs input_size samples for prediction.\n",
      "\n"
     ]
    }
   ],
   "source": [
    "# Run Prediction #################################################\n",
    "# Test the model on the testing data #############################\n",
    "\n",
    "print(\"Running prediction..\")\n",
    "prediction = model.predict(X_ordered_testing)\n",
    "\n",
    "save_wav('models/'+name+'/y_pred.wav', prediction)\n",
    "save_wav('models/'+name+'/x_test.wav', X_testing)\n",
    "save_wav('models/'+name+'/y_test.wav', y_testing)\n",
    "\n",
    "print(\"X_testing shape: \", X_testing.shape)\n",
    "print(\"X_ordered_testing shape: \", X_ordered_testing.shape)\n",
    "print(\"y_testing shape: \", y_testing.shape)\n",
    "print(\"prediction shape: \", prediction.shape)\n",
    "\n",
    "print(\"Note that the prediction shape is smaller than the y_testing shape. This is because the first predicted sample needs input_size samples for prediction.\\n\")"
   ]
  },
  {
   "cell_type": "markdown",
   "metadata": {},
   "source": [
    "### 2. On a number sequence (to control inference)"
   ]
  },
  {
   "cell_type": "code",
   "execution_count": 9,
   "metadata": {},
   "outputs": [
    {
     "name": "stdout",
     "output_type": "stream",
     "text": [
      "Running prediction..\n",
      "1/1 [==============================] - 0s 10ms/step\n",
      "prediction [[-0.14818981]]\n",
      "X_testing_2 shape:  (1, 150, 1)\n",
      "prediction_2 shape:  (1, 1)\n"
     ]
    }
   ],
   "source": [
    "# Test the model simple number sequence to compare with inference #\n",
    "X_testing_2 = np.array([])\n",
    "\n",
    "for i in range(0, 150):\n",
    "    X_testing_2 = np.append(X_testing_2, i*0.001)\n",
    "\n",
    "X_testing_2 = np.expand_dims(X_testing_2, axis=0)\n",
    "X_testing_2 = np.expand_dims(X_testing_2, axis=0)\n",
    "\n",
    "X_testing_2 = np.reshape(X_testing_2, (1, 150, 1))\n",
    "\n",
    "print(\"Running prediction..\")\n",
    "prediction_2 = model.predict(X_testing_2)\n",
    "print(f\"prediction {prediction_2}\")\n",
    "\n",
    "print(\"X_testing_2 shape: \", X_testing_2.shape)\n",
    "print(\"prediction_2 shape: \", prediction_2.shape)"
   ]
  },
  {
   "cell_type": "markdown",
   "metadata": {},
   "source": [
    "## Export as tflite model"
   ]
  },
  {
   "cell_type": "code",
   "execution_count": 10,
   "metadata": {},
   "outputs": [
    {
     "name": "stderr",
     "output_type": "stream",
     "text": [
      "WARNING:absl:At this time, the v2.11+ optimizer `tf.keras.optimizers.RestoredOptimizer` runs slowly on M1/M2 Macs, please use the legacy Keras optimizer instead, located at `tf.keras.optimizers.legacy.RestoredOptimizer`.\n"
     ]
    },
    {
     "name": "stdout",
     "output_type": "stream",
     "text": [
      "=== TFLite ModelAnalyzer ===\n",
      "\n",
      "Your TFLite model has '1' subgraph(s). In the subgraph description below,\n",
      "T# represents the Tensor numbers. For example, in Subgraph#0, the PAD op takes\n",
      "tensor #0 and tensor #11 as input and produces tensor #28 as output.\n",
      "\n",
      "Subgraph#0 main(T#0) -> [T#39]\n",
      "  Op#0 PAD(T#0, T#11[0, 0, 12, 12, 0, ...]) -> [T#28]\n",
      "  Op#1 RESHAPE(T#28, T#3[1, 1, 174, 1]) -> [T#29]\n",
      "  Op#2 CONV_2D(T#29, T#7, T#1) -> [T#30]\n",
      "  Op#3 RESHAPE(T#30, T#4[1, 14, 16]) -> [T#31]\n",
      "  Op#4 PAD(T#31, T#11[0, 0, 12, 12, 0, ...]) -> [T#32]\n",
      "  Op#5 RESHAPE(T#32, T#5[1, 1, 38, 16]) -> [T#33]\n",
      "  Op#6 CONV_2D(T#33, T#8, T#2) -> [T#34]\n",
      "  Op#7 RESHAPE(T#34, T#6[1, 3, 16]) -> [T#35]\n",
      "  Op#8 UNIDIRECTIONAL_SEQUENCE_LSTM(T#35, T#20, T#21, T#22, T#23, T#12, T#13, T#14, T#15, T#-1, T#-1, T#-1, T#16, T#17, T#18, T#19, T#-1, T#-1, T#10, T#36, T#-1, T#-1, T#-1, T#-1) -> [T#37]\n",
      "  Op#9 STRIDED_SLICE(T#37, T#25[0, -1, 0], T#26[0, 0, 0], T#27[1, 1, 1]) -> [T#38]\n",
      "  Op#10 FULLY_CONNECTED(T#38, T#24, T#9) -> [T#39]\n",
      "\n",
      "Tensors of Subgraph#0\n",
      "  T#0(serving_default_input_1:0) shape:[1, 150, 1], type:FLOAT32\n",
      "  T#1(model/conv1d/BiasAdd/ReadVariableOp) shape:[16], type:FLOAT32 RO 64 bytes, buffer: 2, data:[-0.00639128, -0.00703551, 0.00228243, -0.0137976, -0.00964908, ...]\n",
      "  T#2(model/conv1d_1/BiasAdd/ReadVariableOp) shape:[16], type:FLOAT32 RO 64 bytes, buffer: 3, data:[0.0183422, 0.0140636, -0.0220616, -0.0199623, -0.0959258, ...]\n",
      "  T#3(model/conv1d/Conv1D/ExpandDims) shape:[4], type:INT32 RO 16 bytes, buffer: 4, data:[1, 1, 174, 1]\n",
      "  T#4(model/conv1d/Conv1D/Squeeze) shape:[3], type:INT32 RO 12 bytes, buffer: 5, data:[1, 14, 16]\n",
      "  T#5(model/conv1d_1/Conv1D/ExpandDims) shape:[4], type:INT32 RO 16 bytes, buffer: 6, data:[1, 1, 38, 16]\n",
      "  T#6(model/conv1d_1/Conv1D/Squeeze) shape:[3], type:INT32 RO 12 bytes, buffer: 7, data:[1, 3, 16]\n",
      "  T#7(model/conv1d/Conv1D) shape:[16, 1, 12, 1], type:FLOAT32 RO 768 bytes, buffer: 8, data:[0.379673, 0.24539, 0.492858, 0.612726, 0.503913, ...]\n",
      "  T#8(model/conv1d_1/Conv1D) shape:[16, 1, 12, 16], type:FLOAT32 RO 12288 bytes, buffer: 9, data:[0.242897, -0.571169, -0.61761, -0.190251, -0.234319, ...]\n",
      "  T#9(model/dense/BiasAdd/ReadVariableOp) shape:[1], type:FLOAT32 RO 4 bytes, buffer: 10, data:[-0.00218528]\n",
      "  T#10(model/lstm/zeros) shape:[1, 36], type:FLOAT32\n",
      "  T#11(model/zero_padding1d/Pad/paddings) shape:[3, 2], type:INT32 RO 24 bytes, buffer: 12, data:[0, 0, 12, 12, 0, ...]\n",
      "  T#12(arith.constant) shape:[36, 36], type:FLOAT32 RO 5184 bytes, buffer: 13, data:[-0.262119, -0.323021, 0.0694119, -0.0371232, 0.696546, ...]\n",
      "  T#13(arith.constant1) shape:[36, 36], type:FLOAT32 RO 5184 bytes, buffer: 14, data:[-0.178408, 0.025137, -0.0155871, 0.0379828, -0.169388, ...]\n",
      "  T#14(arith.constant2) shape:[36, 36], type:FLOAT32 RO 5184 bytes, buffer: 15, data:[-0.415195, 0.378194, -0.193722, -0.216955, -0.201874, ...]\n",
      "  T#15(arith.constant3) shape:[36, 36], type:FLOAT32 RO 5184 bytes, buffer: 16, data:[-0.00597747, -0.0795724, 0.0304546, -0.24747, 0.0488747, ...]\n",
      "  T#16(arith.constant4) shape:[36], type:FLOAT32 RO 144 bytes, buffer: 17, data:[-0.273044, -0.291953, 0.675976, 0.218638, -0.132412, ...]\n",
      "  T#17(arith.constant5) shape:[36], type:FLOAT32 RO 144 bytes, buffer: 18, data:[0.656572, 1.02853, 0.244597, 0.639034, 0.831096, ...]\n",
      "  T#18(arith.constant6) shape:[36], type:FLOAT32 RO 144 bytes, buffer: 19, data:[0.00739315, 0.00983093, -0.00218643, 0.00133457, -0.0246344, ...]\n",
      "  T#19(arith.constant7) shape:[36], type:FLOAT32 RO 144 bytes, buffer: 20, data:[-0.20228, -0.213661, 0.0488845, 0.0634061, -0.147779, ...]\n",
      "  T#20(arith.constant8) shape:[36, 16], type:FLOAT32 RO 2304 bytes, buffer: 21, data:[-0.00901565, -0.131223, -0.0329599, -0.137585, -0.0901903, ...]\n",
      "  T#21(arith.constant9) shape:[36, 16], type:FLOAT32 RO 2304 bytes, buffer: 22, data:[-0.247206, -0.221217, 0.262064, 0.176901, 0.386717, ...]\n",
      "  T#22(arith.constant10) shape:[36, 16], type:FLOAT32 RO 2304 bytes, buffer: 23, data:[0.128187, 0.104977, -0.25818, -0.0496468, -0.452603, ...]\n",
      "  T#23(arith.constant11) shape:[36, 16], type:FLOAT32 RO 2304 bytes, buffer: 24, data:[0.166666, -0.0825638, -0.0931237, -0.17368, -0.0870874, ...]\n",
      "  T#24(model/dense/MatMul) shape:[1, 36], type:FLOAT32 RO 144 bytes, buffer: 25, data:[0.0928863, 0.212152, 0.142203, -0.0439729, 0.0866588, ...]\n",
      "  T#25(arith.constant12) shape:[3], type:INT32 RO 12 bytes, buffer: 26, data:[0, -1, 0]\n",
      "  T#26(arith.constant13) shape:[3], type:INT32 RO 12 bytes, buffer: 27, data:[0, 0, 0]\n",
      "  T#27(arith.constant14) shape:[3], type:INT32 RO 12 bytes, buffer: 28, data:[1, 1, 1]\n",
      "  T#28(model/zero_padding1d/Pad) shape:[1, 174, 1], type:FLOAT32\n",
      "  T#29(model/conv1d/Conv1D/ExpandDims1) shape:[1, 1, 174, 1], type:FLOAT32\n",
      "  T#30(model/conv1d/BiasAdd;model/conv1d/Conv1D/Squeeze;model/conv1d/BiasAdd/ReadVariableOp;model/conv1d_1/Conv1D;model/conv1d/Conv1D) shape:[1, 1, 14, 16], type:FLOAT32\n",
      "  T#31(model/conv1d/BiasAdd;model/conv1d/Conv1D/Squeeze;model/conv1d/BiasAdd/ReadVariableOp) shape:[1, 14, 16], type:FLOAT32\n",
      "  T#32(model/zero_padding1d_1/Pad) shape:[1, 38, 16], type:FLOAT32\n",
      "  T#33(model/conv1d_1/Conv1D/ExpandDims1) shape:[1, 1, 38, 16], type:FLOAT32\n",
      "  T#34(model/conv1d_1/BiasAdd;model/conv1d_1/Conv1D/Squeeze;model/conv1d_1/BiasAdd/ReadVariableOp;model/conv1d_1/Conv1D) shape:[1, 1, 3, 16], type:FLOAT32\n",
      "  T#35(model/conv1d_1/BiasAdd;model/conv1d_1/Conv1D/Squeeze;model/conv1d_1/BiasAdd/ReadVariableOp) shape:[1, 3, 16], type:FLOAT32\n",
      "  T#36(model/lstm/zeros1) shape:[1, 36], type:FLOAT32\n",
      "  T#37(tfl.unidirectional_sequence_lstm) shape:[1, 3, 36], type:FLOAT32\n",
      "  T#38(tfl.strided_slice) shape:[1, 36], type:FLOAT32\n",
      "  T#39(StatefulPartitionedCall:0) shape:[1, 1], type:FLOAT32\n",
      "\n",
      "---------------------------------------------------------------\n",
      "Your TFLite model has '1' signature_def(s).\n",
      "\n",
      "Signature#0 key: 'serving_default'\n",
      "- Subgraph: Subgraph#0\n",
      "- Inputs: \n",
      "    'input_1' : T#0\n",
      "- Outputs: \n",
      "    'dense' : T#39\n",
      "\n",
      "---------------------------------------------------------------\n",
      "              Model size:      49548 bytes\n",
      "    Non-data buffer size:       5184 bytes (10.46 %)\n",
      "  Total data buffer size:      44364 bytes (89.54 %)\n",
      "    (Zero value buffers):        300 bytes (00.61 %)\n",
      "\n",
      "* Buffers of TFLite model are mostly used for constant tensors.\n",
      "  And zero value buffers are buffers filled with zeros.\n",
      "  Non-data buffers area are used to store operators, subgraphs and etc.\n",
      "  You can find more details from https://github.com/tensorflow/tensorflow/blob/master/tensorflow/lite/schema/schema.fbs\n",
      "\n"
     ]
    },
    {
     "name": "stderr",
     "output_type": "stream",
     "text": [
      "2023-10-08 21:43:38.844362: W tensorflow/compiler/mlir/lite/python/tf_tfl_flatbuffer_helpers.cc:378] Ignored output_format.\n",
      "2023-10-08 21:43:38.844379: W tensorflow/compiler/mlir/lite/python/tf_tfl_flatbuffer_helpers.cc:381] Ignored drop_control_dependency.\n",
      "2023-10-08 21:43:38.844910: I tensorflow/cc/saved_model/reader.cc:83] Reading SavedModel from: models/model_0/model_0\n",
      "2023-10-08 21:43:38.848301: I tensorflow/cc/saved_model/reader.cc:51] Reading meta graph with tags { serve }\n",
      "2023-10-08 21:43:38.848309: I tensorflow/cc/saved_model/reader.cc:146] Reading SavedModel debug info (if present) from: models/model_0/model_0\n",
      "2023-10-08 21:43:38.855333: I tensorflow/compiler/mlir/mlir_graph_optimization_pass.cc:382] MLIR V1 optimization pass is not enabled\n",
      "2023-10-08 21:43:38.859399: I tensorflow/cc/saved_model/loader.cc:233] Restoring SavedModel bundle.\n",
      "2023-10-08 21:43:38.911258: I tensorflow/cc/saved_model/loader.cc:217] Running initialization op on SavedModel bundle at path: models/model_0/model_0\n",
      "2023-10-08 21:43:38.937907: I tensorflow/cc/saved_model/loader.cc:316] SavedModel load for tags { serve }; Status: success: OK. Took 92997 microseconds.\n",
      "2023-10-08 21:43:38.973523: I tensorflow/compiler/mlir/tensorflow/utils/dump_mlir_util.cc:269] disabling MLIR crash reproducer, set env var `MLIR_CRASH_REPRODUCER_DIRECTORY` to enable.\n",
      "2023-10-08 21:43:39.047891: I tensorflow/compiler/mlir/lite/flatbuffer_export.cc:2245] Estimated count of arithmetic ops: 0.024 M  ops, equivalently 0.012 M  MACs\n"
     ]
    }
   ],
   "source": [
    "# Convert the model\n",
    "converter = tf.lite.TFLiteConverter.from_saved_model('models/'+name+'/'+name)\n",
    "tflite_model = converter.convert()\n",
    "\n",
    "# Save the model.\n",
    "with open(\"models/\"+name+\"/\"+name+\".tflite\", 'wb') as f:\n",
    "  f.write(tflite_model)\n",
    "\n",
    "tf.lite.experimental.Analyzer.analyze(model_content=tflite_model)"
   ]
  },
  {
   "cell_type": "markdown",
   "metadata": {},
   "source": [
    "## Save the model as json"
   ]
  },
  {
   "cell_type": "code",
   "execution_count": 11,
   "metadata": {},
   "outputs": [
    {
     "name": "stdout",
     "output_type": "stream",
     "text": [
      "Skipping layer: <keras.src.engine.input_layer.InputLayer object at 0x17fa50f90>\n"
     ]
    }
   ],
   "source": [
    "# Save the model as a JSON file (from RTNeural repo) ###################################\n",
    "import model_utils_RTNeural\n",
    "\n",
    "model_utils_RTNeural.save_model(model, filename=\"models/\"+name+\"/\"+name+\".json\")"
   ]
  },
  {
   "cell_type": "code",
   "execution_count": 12,
   "metadata": {},
   "outputs": [
    {
     "name": "stderr",
     "output_type": "stream",
     "text": [
      "WARNING:tf2onnx.tf_loader:Could not search for non-variable resources. Concrete function internal representation may have changed.\n",
      "2023-10-08 21:43:39.532672: I tensorflow/core/grappler/devices.cc:75] Number of eligible GPUs (core count >= 8, compute capability >= 0.0): 0 (Note: TensorFlow was not compiled with CUDA or ROCm support)\n",
      "2023-10-08 21:43:39.532734: I tensorflow/core/grappler/clusters/single_machine.cc:361] Starting new session\n",
      "2023-10-08 21:43:39.535581: I tensorflow/core/common_runtime/pluggable_device/pluggable_device_factory.cc:306] Could not identify NUMA node of platform GPU ID 0, defaulting to 0. Your kernel may not have been built with NUMA support.\n",
      "2023-10-08 21:43:39.535759: I tensorflow/core/common_runtime/pluggable_device/pluggable_device_factory.cc:272] Created TensorFlow device (/job:localhost/replica:0/task:0/device:GPU:0 with 0 MB memory) -> physical PluggableDevice (device: 0, name: METAL, pci bus id: <undefined>)\n",
      "2023-10-08 21:43:39.680127: I tensorflow/core/grappler/devices.cc:75] Number of eligible GPUs (core count >= 8, compute capability >= 0.0): 0 (Note: TensorFlow was not compiled with CUDA or ROCm support)\n",
      "2023-10-08 21:43:39.680182: I tensorflow/core/grappler/clusters/single_machine.cc:361] Starting new session\n",
      "2023-10-08 21:43:39.680294: I tensorflow/core/common_runtime/pluggable_device/pluggable_device_factory.cc:306] Could not identify NUMA node of platform GPU ID 0, defaulting to 0. Your kernel may not have been built with NUMA support.\n",
      "2023-10-08 21:43:39.680306: I tensorflow/core/common_runtime/pluggable_device/pluggable_device_factory.cc:272] Created TensorFlow device (/job:localhost/replica:0/task:0/device:GPU:0 with 0 MB memory) -> physical PluggableDevice (device: 0, name: METAL, pci bus id: <undefined>)\n"
     ]
    }
   ],
   "source": [
    "import tf2onnx\n",
    "import onnx\n",
    "\n",
    "# Define the input shape\n",
    "input_signature = [tf.TensorSpec([1, input_size, 1], tf.float32, name='x')]\n",
    "\n",
    "# Convert the model\n",
    "onnx_model, _ = tf2onnx.convert.from_keras(model, input_signature, opset=13)\n",
    "onnx.save(proto=onnx_model, f=\"models/\"+name+\"/\"+name+\"-tflite\"+\".onnx\")"
   ]
  }
 ],
 "metadata": {
  "kernelspec": {
   "display_name": "venv",
   "language": "python",
   "name": "python3"
  },
  "language_info": {
   "codemirror_mode": {
    "name": "ipython",
    "version": 3
   },
   "file_extension": ".py",
   "mimetype": "text/x-python",
   "name": "python",
   "nbconvert_exporter": "python",
   "pygments_lexer": "ipython3",
   "version": "3.11.5"
  },
  "orig_nbformat": 4
 },
 "nbformat": 4,
 "nbformat_minor": 2
}
