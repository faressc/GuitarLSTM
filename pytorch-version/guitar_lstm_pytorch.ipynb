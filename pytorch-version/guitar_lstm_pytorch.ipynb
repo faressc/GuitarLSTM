{
 "cells": [
  {
   "cell_type": "code",
   "execution_count": 1,
   "metadata": {},
   "outputs": [],
   "source": [
    "import numpy as np\n",
    "import scipy as sp\n",
    "\n",
    "import torch\n",
    "from torch import nn\n",
    "import os"
   ]
  },
  {
   "cell_type": "markdown",
   "metadata": {},
   "source": [
    "## Choose computation device (CPU)"
   ]
  },
  {
   "cell_type": "code",
   "execution_count": 2,
   "metadata": {},
   "outputs": [
    {
     "name": "stdout",
     "output_type": "stream",
     "text": [
      "MPS device found.\n",
      "Using cpu device\n"
     ]
    }
   ],
   "source": [
    "if torch.backends.mps.is_available():\n",
    "    mps_device = torch.device(\"mps\")\n",
    "    x = torch.ones(1, device=mps_device)\n",
    "    print (\"MPS device found.\")\n",
    "else:\n",
    "    print (\"MPS device not found.\")\n",
    "\n",
    "cpu_device = torch.device(\"cpu\")\n",
    "    \n",
    "# Select the device for training\n",
    "device = cpu_device\n",
    "\n",
    "print(f\"Using {device} device\")"
   ]
  },
  {
   "cell_type": "markdown",
   "metadata": {},
   "source": [
    "## User inputs"
   ]
  },
  {
   "cell_type": "code",
   "execution_count": 3,
   "metadata": {},
   "outputs": [
    {
     "name": "stdout",
     "output_type": "stream",
     "text": [
      "A model with the same name already exists. Please choose a new name.\n"
     ]
    }
   ],
   "source": [
    "# EDIT THIS SECTION FOR USER INPUTS\n",
    "#\n",
    "name = 'model_0'\n",
    "in_file = '../data/ts9_test1_in_FP32.wav'\n",
    "out_file = '../data/ts9_test1_out_FP32.wav'\n",
    "epochs = 1\n",
    "\n",
    "train_mode = 0     # 0 = speed training, \n",
    "                   # 1 = accuracy training \n",
    "                   # 2 = extended training\n",
    "\n",
    "input_size = 150 \n",
    "batch_size = 4096 \n",
    "test_size = 0.2\n",
    "\n",
    "if not os.path.exists('models/'+name):\n",
    "    os.makedirs('models/'+name)\n",
    "else:\n",
    "    print(\"A model with the same name already exists. Please choose a new name.\")\n",
    "    exit"
   ]
  },
  {
   "cell_type": "markdown",
   "metadata": {},
   "source": [
    "## Define some helper functions"
   ]
  },
  {
   "cell_type": "code",
   "execution_count": 4,
   "metadata": {},
   "outputs": [],
   "source": [
    "def save_wav(name, data):\n",
    "    sp.io.wavfile.write(name, 44100, data.flatten().astype(np.float32))\n",
    "\n",
    "def normalize(data):\n",
    "    data_max = max(data)\n",
    "    data_min = min(data)\n",
    "    data_norm = max(data_max,abs(data_min))\n",
    "    return data / data_norm"
   ]
  },
  {
   "cell_type": "markdown",
   "metadata": {},
   "source": [
    "## Pre-processing the data"
   ]
  },
  {
   "cell_type": "code",
   "execution_count": 5,
   "metadata": {},
   "outputs": [
    {
     "name": "stdout",
     "output_type": "stream",
     "text": [
      "X_training shape (pre-processing): (6587907,)\n",
      "y_training shape (pre-processing): (6587907,)\n",
      "X_testing shape (pre-processing): (1646977,)\n",
      "y_testing shape (pre-processing): (1646977,)\n",
      "X_ordered_training shape: torch.Size([6587758, 150])\n",
      "y_ordered_training shape: torch.Size([6587758])\n",
      "The X_ordered_training data is an array, where each element is an array of input_size samples in time order. Therefore the lenght is smaller than the original X_training array (the first 150 samples are grouped).\n",
      "The y_ordered_training data is an array, where each element is a single sample. This single sample is the target output for the corresponding X_random_training element, which consists of input samples.\n"
     ]
    }
   ],
   "source": [
    "# Load and Preprocess Data ###########################################\n",
    "in_rate, in_data = sp.io.wavfile.read(in_file)\n",
    "out_rate, out_data = sp.io.wavfile.read(out_file)\n",
    "\n",
    "X_all = in_data.astype(np.float32).flatten()  \n",
    "X_all = normalize(X_all)\n",
    "y_all = out_data.astype(np.float32).flatten() \n",
    "y_all = normalize(y_all)\n",
    "\n",
    "# Get the last 20% of the wav data for testing and thee rest for training\n",
    "X_training, X_testing = np.split(X_all, [int(len(X_all)*.8)])\n",
    "y_training, y_testing = np.split(y_all, [int(len(y_all)*.8)])\n",
    "print(f\"X_training shape (pre-processing): {X_training.shape}\")\n",
    "print(f\"y_training shape (pre-processing): {y_training.shape}\")\n",
    "print(f\"X_testing shape (pre-processing): {X_testing.shape}\")\n",
    "print(f\"y_testing shape (pre-processing): {y_testing.shape}\")\n",
    "\n",
    "# Create a new array where each element is an array of input_size samples in time order\n",
    "# Each element of the new array is shifted by one sample from the previous element\n",
    "indices = np.arange(input_size) + np.arange(len(X_training)-input_size+1)[:,np.newaxis]\n",
    "indices = torch.from_numpy(indices)\n",
    "X_training = torch.from_numpy(X_training)\n",
    "X_ordered_training = torch.zeros_like(indices, dtype=torch.float32)\n",
    "for i, j in enumerate(indices):\n",
    "    X_ordered_training[i] = torch.gather(X_training, 0, indices[i])\n",
    "print(f\"X_ordered_training shape: {X_ordered_training.shape}\")\n",
    "\n",
    "# The input size defines the number of samples used for each prediction\n",
    "# Therefore the first output value that we get is at index input_size-1\n",
    "y_ordered_training = y_training[input_size-1:]\n",
    "y_ordered_training = torch.from_numpy(y_ordered_training)\n",
    "print(f\"y_ordered_training shape: {y_ordered_training.shape}\")\n",
    "\n",
    "print(f\"The X_ordered_training data is an array, where each element is an array of input_size samples in time order. Therefore the lenght is smaller than the original X_training array (the first {input_size} samples are grouped).\")\n",
    "print(f\"The y_ordered_training data is an array, where each element is a single sample. This single sample is the target output for the corresponding X_random_training element, which consists of input samples.\")"
   ]
  },
  {
   "cell_type": "markdown",
   "metadata": {},
   "source": [
    "## Create dataloaders"
   ]
  },
  {
   "cell_type": "code",
   "execution_count": 6,
   "metadata": {},
   "outputs": [
    {
     "name": "stdout",
     "output_type": "stream",
     "text": [
      "Batch: 0\n",
      "Shape of X: torch.Size([4096, 150])\n",
      "Shape of y: torch.Size([4096]) torch.float32\n",
      "This is the first audio chunk in the batch: tensor([ 1.6002e-02,  1.4742e-02,  1.3524e-02,  1.2222e-02,  1.0920e-02,\n",
      "         9.5762e-03,  8.2322e-03,  6.8882e-03,  5.5441e-03,  4.2001e-03,\n",
      "         2.8981e-03,  1.5960e-03,  3.3601e-04, -9.2402e-04, -2.1000e-03,\n",
      "        -3.2761e-03, -4.3681e-03, -5.3761e-03, -6.3001e-03, -7.1402e-03,\n",
      "        -7.8542e-03, -8.4422e-03, -8.9042e-03, -9.2822e-03, -9.4922e-03,\n",
      "        -9.5762e-03, -9.4922e-03, -9.3662e-03, -9.1562e-03, -8.8622e-03,\n",
      "        -8.5262e-03, -8.1482e-03, -7.7282e-03, -7.2662e-03, -6.8041e-03,\n",
      "        -6.3841e-03, -5.8801e-03, -5.4181e-03, -4.9141e-03, -4.4101e-03,\n",
      "        -3.8221e-03, -3.2341e-03, -2.5621e-03, -1.8480e-03, -1.0080e-03,\n",
      "        -1.2600e-04,  9.2402e-04,  2.0160e-03,  3.2761e-03,  4.5361e-03,\n",
      "         5.9221e-03,  7.3502e-03,  8.8622e-03,  1.0416e-02,  1.2054e-02,\n",
      "         1.3650e-02,  1.5288e-02,  1.6884e-02,  1.8480e-02,  2.0034e-02,\n",
      "         2.1546e-02,  2.3017e-02,  2.4487e-02,  2.5873e-02,  2.7175e-02,\n",
      "         2.8477e-02,  2.9695e-02,  3.0829e-02,  3.1879e-02,  3.2887e-02,\n",
      "         3.3769e-02,  3.4525e-02,  3.5197e-02,  3.5701e-02,  3.6079e-02,\n",
      "         3.6331e-02,  3.6415e-02,  3.6331e-02,  3.6121e-02,  3.5743e-02,\n",
      "         3.5239e-02,  3.4609e-02,  3.3895e-02,  3.3097e-02,  3.2257e-02,\n",
      "         3.1333e-02,  3.0451e-02,  2.9485e-02,  2.8561e-02,  2.7595e-02,\n",
      "         2.6671e-02,  2.5705e-02,  2.4697e-02,  2.3731e-02,  2.2765e-02,\n",
      "         2.1756e-02,  2.0748e-02,  1.9698e-02,  1.8648e-02,  1.7556e-02,\n",
      "         1.6506e-02,  1.5456e-02,  1.4448e-02,  1.3482e-02,  1.2558e-02,\n",
      "         1.1760e-02,  1.0962e-02,  1.0290e-02,  9.7022e-03,  9.1982e-03,\n",
      "         8.7782e-03,  8.3582e-03,  8.0642e-03,  7.7702e-03,  7.5602e-03,\n",
      "         7.3082e-03,  7.0982e-03,  6.9302e-03,  6.7621e-03,  6.5941e-03,\n",
      "         6.5101e-03,  6.4681e-03,  6.4261e-03,  6.4681e-03,  6.5521e-03,\n",
      "         6.6361e-03,  6.8041e-03,  7.0142e-03,  7.1822e-03,  7.3502e-03,\n",
      "         7.5182e-03,  7.6442e-03,  7.6862e-03,  7.6862e-03,  7.5602e-03,\n",
      "         7.3082e-03,  6.9722e-03,  6.5521e-03,  6.0061e-03,  5.3761e-03,\n",
      "         4.7041e-03,  3.9481e-03,  3.1501e-03,  2.3521e-03,  1.5540e-03,\n",
      "         7.1402e-04, -8.4002e-05, -8.4002e-04, -1.5540e-03, -2.1840e-03])\n",
      "This is the first target value in the batch: 0.12860563397407532\n"
     ]
    }
   ],
   "source": [
    "training_dataset = torch.utils.data.TensorDataset(X_ordered_training, y_ordered_training)\n",
    "training_dataloader = torch.utils.data.DataLoader(training_dataset, batch_size=batch_size, shuffle=True)\n",
    "\n",
    "for batch, (X, y) in enumerate(training_dataloader):\n",
    "    print(f\"Batch: {batch}\")\n",
    "    print(f\"Shape of X: {X.shape}\")\n",
    "    print(f\"Shape of y: {y.shape} {y.dtype}\")\n",
    "    print(f\"This is the first audio chunk in the batch: {X[0]}\")\n",
    "    print(f\"This is the first target value in the batch: {y[0]}\")\n",
    "    break"
   ]
  },
  {
   "cell_type": "markdown",
   "metadata": {},
   "source": [
    "## Define the model"
   ]
  },
  {
   "cell_type": "code",
   "execution_count": 7,
   "metadata": {},
   "outputs": [
    {
     "name": "stdout",
     "output_type": "stream",
     "text": [
      "NeuralNetwork(\n",
      "  (pad): ConstantPad1d(padding=(12, 12), value=0)\n",
      "  (conv1): Conv1d(1, 16, kernel_size=(12,), stride=(12,))\n",
      "  (conv2): Conv1d(16, 16, kernel_size=(12,), stride=(12,))\n",
      "  (lstm): LSTM(3, 36, batch_first=True)\n",
      "  (linear): Linear(in_features=36, out_features=1, bias=True)\n",
      ")\n"
     ]
    }
   ],
   "source": [
    "'''This is a similar PyTorch implementation of the LSTM model from the paper:\n",
    "    \"Real-Time Guitar Amplifier Emulation with Deep Learning\"\n",
    "    https://www.mdpi.com/2076-3417/10/3/766/htm\n",
    "\n",
    "    Uses a stack of two 1-D Convolutional layers, followed by LSTM, followed by \n",
    "    a Dense (fully connected) layer. Three preset training modes are available, \n",
    "    with further customization by editing the code. A PyTorch model \n",
    "    is implemented here.\n",
    "\n",
    "    Note: RAM may be a limiting factor for the parameter \"input_size\". The wav data\n",
    "      is preprocessed and stored in RAM, which improves training speed but quickly runs out\n",
    "      if using a large number for \"input_size\".  Reduce this if you are experiencing\n",
    "      RAM issues.\n",
    "'''\n",
    "\n",
    "if train_mode == 0:         # Speed Training\n",
    "    learning_rate = 0.01 \n",
    "    conv1d_strides = 12   \n",
    "    conv1d_1_strides = 12\n",
    "    conv1d_filters = 16\n",
    "    hidden_units = 36\n",
    "elif train_mode == 1:       # Accuracy Training (~10x longer than Speed Training)\n",
    "    learning_rate = 0.01 \n",
    "    conv1d_strides = 4\n",
    "    conv1d_filters = 36\n",
    "    hidden_units= 64\n",
    "else:                       # Extended Training (~60x longer than Accuracy Training)\n",
    "    learning_rate = 0.0005 \n",
    "    conv1d_strides = 3\n",
    "    conv1d_filters = 36\n",
    "    hidden_units= 96\n",
    "\n",
    "# Define model ########################################################\n",
    "\n",
    "class NeuralNetwork(nn.Module):\n",
    "    def __init__(self):\n",
    "        super().__init__()\n",
    "        self.pad = nn.ConstantPad1d(padding=12, value=0)\n",
    "        self.conv1 = nn.Conv1d(in_channels=1, out_channels=conv1d_filters, kernel_size=12, stride=conv1d_strides)\n",
    "        self.conv2 = nn.Conv1d(in_channels=conv1d_filters, out_channels=conv1d_filters, kernel_size=12, stride=conv1d_strides)\n",
    "        self.lstm = nn.LSTM(input_size=3, hidden_size=hidden_units, batch_first = True)\n",
    "        self.linear = nn.Linear(in_features=hidden_units, out_features=1)\n",
    "\n",
    "    def forward(self, x):\n",
    "        x = self.pad(x)\n",
    "        x = self.conv1(x)\n",
    "        x = self.pad(x)\n",
    "        x = self.conv2(x)\n",
    "        output, (hidden, cell) =  self.lstm(x)\n",
    "        x = self.linear(cell)\n",
    "        return x\n",
    "\n",
    "model = NeuralNetwork().to(device)\n",
    "print(model)\n",
    "\n",
    "# Define loss function and optimizer ##################################\n",
    "loss_fn = nn.MSELoss(reduction='mean')\n",
    "optimizer = torch.optim.Adam(model.parameters(), lr=learning_rate)"
   ]
  },
  {
   "cell_type": "code",
   "execution_count": 8,
   "metadata": {},
   "outputs": [],
   "source": [
    "# Define training procedure ############################################\n",
    "\n",
    "def train(dataloader, model, loss_fn, optimizer):\n",
    "    size = len(dataloader.dataset)\n",
    "    model.train()\n",
    "    for batch, (X, y) in enumerate(dataloader):\n",
    "        # Preprocess input and target data\n",
    "        X, y = X.to(device), y.to(device)\n",
    "        X = X.unsqueeze(1)\n",
    "        y = y.unsqueeze(0)\n",
    "        y = y.unsqueeze(2)\n",
    "\n",
    "        # Compute prediction error\n",
    "        pred = model(X)\n",
    "        loss = loss_fn(pred, y)\n",
    "\n",
    "        # Backpropagation\n",
    "        loss.backward()\n",
    "        optimizer.step()\n",
    "        optimizer.zero_grad()\n",
    "\n",
    "        if batch % 100 == 0:\n",
    "            loss, current = loss.item(), (batch + 1) * len(X)\n",
    "            print(f\"loss: {loss:>7f}  [{current:>5d}/{size:>5d}]\")"
   ]
  },
  {
   "cell_type": "markdown",
   "metadata": {},
   "source": [
    "## Train the model"
   ]
  },
  {
   "cell_type": "code",
   "execution_count": 9,
   "metadata": {},
   "outputs": [
    {
     "name": "stdout",
     "output_type": "stream",
     "text": [
      "Epoch 1\n",
      "-------------------------------\n",
      "loss: 0.026680  [ 4096/6587758]\n",
      "loss: 0.001680  [413696/6587758]\n",
      "loss: 0.000810  [823296/6587758]\n",
      "loss: 0.000564  [1232896/6587758]\n",
      "loss: 0.000443  [1642496/6587758]\n",
      "loss: 0.000426  [2052096/6587758]\n",
      "loss: 0.000371  [2461696/6587758]\n",
      "loss: 0.000399  [2871296/6587758]\n",
      "loss: 0.000357  [3280896/6587758]\n",
      "loss: 0.000343  [3690496/6587758]\n",
      "loss: 0.000332  [4100096/6587758]\n",
      "loss: 0.000327  [4509696/6587758]\n",
      "loss: 0.000317  [4919296/6587758]\n",
      "loss: 0.000328  [5328896/6587758]\n",
      "loss: 0.000331  [5738496/6587758]\n",
      "loss: 0.000304  [6148096/6587758]\n",
      "loss: 0.000317  [6557696/6587758]\n",
      "Done!\n",
      "Saved PyTorch Model State to model.pth\n"
     ]
    }
   ],
   "source": [
    "for t in range(epochs):\n",
    "    print(f\"Epoch {t+1}\\n-------------------------------\")\n",
    "    train(training_dataloader, model, loss_fn, optimizer)\n",
    "print(\"Done!\")\n",
    "\n",
    "torch.save(model.state_dict(), \"models/\"+name+\"/\"+name+\".pth\")\n",
    "print(\"Saved PyTorch Model State to model.pth\")"
   ]
  },
  {
   "cell_type": "markdown",
   "metadata": {},
   "source": [
    "## Run predictions\n",
    "### 1. On the test audio data"
   ]
  },
  {
   "cell_type": "code",
   "execution_count": 10,
   "metadata": {},
   "outputs": [
    {
     "name": "stdout",
     "output_type": "stream",
     "text": [
      "Running prediction..\n",
      "X_testing shape:  (1646977,)\n",
      "X_ordered_testing shape:  torch.Size([1646828, 150])\n",
      "y_testing shape:  (1646977,)\n",
      "prediction shape:  torch.Size([1646828])\n",
      "Note that the prediction shape is smaller than the y_testing shape. This is because the first predicted sample needs input_size samples for prediction.\n",
      "\n"
     ]
    }
   ],
   "source": [
    "# Set the model to evaluate mode #################################\n",
    "model.eval()\n",
    "\n",
    "# Run Prediction #################################################\n",
    "# Test the model on the testing data #############################\n",
    "\n",
    "# pre-processing X_testing data\n",
    "indices_testing = np.arange(input_size) + np.arange(len(X_testing)-input_size+1)[:,np.newaxis]\n",
    "indices_testing = torch.from_numpy(indices_testing)\n",
    "X_testing_tensor = torch.from_numpy(X_testing)\n",
    "X_ordered_testing = torch.zeros_like(indices_testing, dtype=torch.float32)\n",
    "for i, j in enumerate(indices_testing):\n",
    "    X_ordered_testing[i] = torch.gather(X_testing_tensor, 0, indices[i])\n",
    "\n",
    "# pre-processing y_testing data\n",
    "y_ordered_testing = y_testing[input_size-1:]\n",
    "y_ordered_testing = torch.from_numpy(y_ordered_testing)\n",
    "\n",
    "# Create dataloader for testing ##################################\n",
    "testing_dataset = torch.utils.data.TensorDataset(X_ordered_testing, y_ordered_testing)\n",
    "testing_dataloader = torch.utils.data.DataLoader(testing_dataset, batch_size=batch_size)\n",
    "\n",
    "# Run prediction ##################################################\n",
    "prediction = torch.zeros(0).to(device)\n",
    "\n",
    "print(\"Running prediction..\")\n",
    "with torch.no_grad():\n",
    "    for X, _ in testing_dataloader:\n",
    "        X = X.to(device)\n",
    "        X = X.unsqueeze(1)\n",
    "        predicted_batch = model(X)\n",
    "        prediction = torch.cat((prediction, predicted_batch.flatten()), 0)\n",
    "\n",
    "save_wav('models/'+name+'/y_pred.wav', prediction.cpu().numpy())\n",
    "save_wav('models/'+name+'/x_test.wav', X_testing)\n",
    "save_wav('models/'+name+'/y_test.wav', y_testing)\n",
    "\n",
    "print(\"X_testing shape: \", X_testing.shape)\n",
    "print(\"X_ordered_testing shape: \", X_ordered_testing.shape)\n",
    "print(\"y_testing shape: \", y_testing.shape)\n",
    "print(\"prediction shape: \", prediction.shape)\n",
    "\n",
    "print(\"Note that the prediction shape is smaller than the y_testing shape. This is because the first predicted sample needs input_size samples for prediction.\\n\")\n"
   ]
  },
  {
   "cell_type": "markdown",
   "metadata": {},
   "source": [
    "### 2. On a number sequence (to control inference)"
   ]
  },
  {
   "cell_type": "code",
   "execution_count": 11,
   "metadata": {},
   "outputs": [
    {
     "name": "stdout",
     "output_type": "stream",
     "text": [
      "Running prediction..\n",
      "prediction tensor([[[-0.2674]]], grad_fn=<ViewBackward0>)\n",
      "X_testing_2 shape:  torch.Size([1, 1, 150])\n",
      "prediction_2 shape:  torch.Size([1, 1, 1])\n"
     ]
    }
   ],
   "source": [
    "# Test the model simple number sequence to compare with inference #\n",
    "X_testing_2 = np.array([], dtype=np.float64)\n",
    "\n",
    "for i in range(0, 150):\n",
    "    X_testing_2 = np.append(X_testing_2, i*0.001)\n",
    "\n",
    "X_testing_2 = np.expand_dims(X_testing_2, axis=0)\n",
    "X_testing_2 = np.expand_dims(X_testing_2, axis=0)\n",
    "\n",
    "X_testing_2 = np.reshape(X_testing_2, (1, 1, 150))\n",
    "\n",
    "X_testing_2 = torch.from_numpy(X_testing_2).double()\n",
    "\n",
    "print(\"Running prediction..\")\n",
    "model = model.float()\n",
    "\n",
    "prediction_2 = model(X_testing_2.to(device).float())\n",
    "\n",
    "print(f\"prediction {prediction_2}\")\n",
    "\n",
    "print(\"X_testing_2 shape: \", X_testing_2.shape)\n",
    "print(\"prediction_2 shape: \", prediction_2.shape)"
   ]
  },
  {
   "cell_type": "markdown",
   "metadata": {},
   "source": [
    "## Export as pt model"
   ]
  },
  {
   "cell_type": "code",
   "execution_count": 12,
   "metadata": {},
   "outputs": [],
   "source": [
    "# An example input you would normally provide to your model's forward() method.\n",
    "example = torch.rand(1, 1, 150).to(device)\n",
    "\n",
    "# Use torch.jit.trace to generate a torch.jit.ScriptModule via tracing.\n",
    "traced_script_module = torch.jit.trace(model, example)\n",
    "traced_script_module.save(\"models/\"+name+\"/\"+name+\".pt\")"
   ]
  }
 ],
 "metadata": {
  "kernelspec": {
   "display_name": "venv",
   "language": "python",
   "name": "python3"
  },
  "language_info": {
   "codemirror_mode": {
    "name": "ipython",
    "version": 3
   },
   "file_extension": ".py",
   "mimetype": "text/x-python",
   "name": "python",
   "nbconvert_exporter": "python",
   "pygments_lexer": "ipython3",
   "version": "3.11.5"
  },
  "orig_nbformat": 4
 },
 "nbformat": 4,
 "nbformat_minor": 2
}
